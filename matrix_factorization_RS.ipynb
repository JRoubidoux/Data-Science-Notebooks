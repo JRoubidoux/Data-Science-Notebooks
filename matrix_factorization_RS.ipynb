{
 "cells": [
  {
   "cell_type": "markdown",
   "metadata": {},
   "source": [
    "Implementing matrix factorization on the netflix movie recommendation dataset"
   ]
  },
  {
   "cell_type": "markdown",
   "metadata": {},
   "source": [
    "We will take the first thousand movies from the dataset and then see how many users we have have seen at least one of these movies"
   ]
  },
  {
   "cell_type": "code",
   "execution_count": 3,
   "metadata": {},
   "outputs": [],
   "source": [
    "import os\n",
    "import numpy as np\n"
   ]
  },
  {
   "cell_type": "code",
   "execution_count": 4,
   "metadata": {},
   "outputs": [
    {
     "name": "stdout",
     "output_type": "stream",
     "text": [
      "C:\\Users\\Jackson Roubidoux\\Continued_learning\\data_science_notebooks\\download\\training_set\\mv_0000001.txt\n",
      "C:\\Users\\Jackson Roubidoux\\Continued_learning\\data_science_notebooks\\download\\training_set\\mv_0000002.txt\n",
      "C:\\Users\\Jackson Roubidoux\\Continued_learning\\data_science_notebooks\\download\\training_set\\mv_0000003.txt\n",
      "C:\\Users\\Jackson Roubidoux\\Continued_learning\\data_science_notebooks\\download\\training_set\\mv_0000004.txt\n",
      "C:\\Users\\Jackson Roubidoux\\Continued_learning\\data_science_notebooks\\download\\training_set\\mv_0000005.txt\n",
      "C:\\Users\\Jackson Roubidoux\\Continued_learning\\data_science_notebooks\\download\\training_set\\mv_0000006.txt\n",
      "C:\\Users\\Jackson Roubidoux\\Continued_learning\\data_science_notebooks\\download\\training_set\\mv_0000007.txt\n",
      "C:\\Users\\Jackson Roubidoux\\Continued_learning\\data_science_notebooks\\download\\training_set\\mv_0000008.txt\n",
      "C:\\Users\\Jackson Roubidoux\\Continued_learning\\data_science_notebooks\\download\\training_set\\mv_0000009.txt\n",
      "C:\\Users\\Jackson Roubidoux\\Continued_learning\\data_science_notebooks\\download\\training_set\\mv_0000010.txt\n"
     ]
    }
   ],
   "source": [
    "path_to_data = r\"C:\\Users\\Jackson Roubidoux\\Continued_learning\\data_science_notebooks\\download\\training_set\"\n",
    "\n",
    "first_thousand_movies = sorted([os.path.join(path_to_data, file) for file in os.listdir(path_to_data)])[:1000]\n",
    "\n",
    "for i in range(10):\n",
    "    print(first_thousand_movies[i])"
   ]
  },
  {
   "cell_type": "markdown",
   "metadata": {},
   "source": [
    "Let's take a moment to understand how the matrix factorization works before we implement it with code.\n",
    "\n",
    "Assume we have an *adjency matrix that represents users, movies and the ratings that users gave the movies. \n",
    "\n",
    "We will call this matrix A.\n",
    "\n",
    "Let's take a small look at a section of A. We will take the first 10 movies from the dataset and select 2 people who watched each movie to get between 2 and 20 users and then we will build an adjency matrix. If the user didn't watch the movie then their entry in the adjency matrix will be denoted with NaN. "
   ]
  },
  {
   "cell_type": "code",
   "execution_count": 11,
   "metadata": {},
   "outputs": [
    {
     "name": "stdout",
     "output_type": "stream",
     "text": [
      "[[ 4. nan nan nan nan nan nan nan nan nan]\n",
      " [nan nan nan nan nan nan nan nan  2. nan]\n",
      " [nan nan nan  2. nan nan nan nan nan nan]\n",
      " [nan  3. nan nan nan nan nan nan nan nan]\n",
      " [nan nan nan nan nan nan nan nan nan  4.]\n",
      " [nan nan nan nan  4. nan nan nan nan nan]\n",
      " [nan nan nan nan nan nan  2. nan nan nan]\n",
      " [nan  4. nan nan nan nan nan nan nan nan]\n",
      " [ 3. nan nan nan nan nan nan nan nan nan]\n",
      " [nan nan nan nan nan  4. nan nan nan nan]\n",
      " [nan nan nan  4. nan nan nan nan nan nan]\n",
      " [nan nan nan nan nan nan nan nan nan  1.]\n",
      " [nan nan nan nan nan nan  3. nan nan nan]\n",
      " [nan nan nan nan nan nan nan  5. nan nan]\n",
      " [nan nan nan nan nan  3. nan nan nan nan]\n",
      " [nan nan nan nan nan nan nan nan  1. nan]\n",
      " [nan nan  3. nan nan nan nan nan nan nan]\n",
      " [nan nan nan nan nan nan nan  4. nan nan]\n",
      " [nan nan nan nan  4. nan nan nan nan nan]\n",
      " [nan nan  4. nan nan nan nan nan nan nan]]\n"
     ]
    }
   ],
   "source": [
    "movie_to_user_and_rating = {}\n",
    "set_of_users = set()\n",
    "movies = []\n",
    "\n",
    "np.random.seed(42)\n",
    "randomly_selected_10_movies = np.random.choice(first_thousand_movies, 10, replace=False)\n",
    "\n",
    "for movie_file in randomly_selected_10_movies:\n",
    "    with open(movie_file, 'r') as f_in:\n",
    "        movie_id = next(f_in).strip().replace(\":\", \"\")\n",
    "        movies.append(movie_id)\n",
    "        movie_to_user_and_rating[movie_id] = {}\n",
    "\n",
    "        rows = f_in.readlines()\n",
    "\n",
    "        users = np.random.choice(rows, 2, replace=False)\n",
    "\n",
    "        for user in users:\n",
    "            user_id, rating, date = user.strip().split(\",\")\n",
    "            set_of_users.add(user_id)\n",
    "            if user_id in movie_to_user_and_rating[movie_id]:\n",
    "                raise ValueError(\"This shouldn't be possible\")\n",
    "            else:\n",
    "                movie_to_user_and_rating[movie_id][user_id] = rating\n",
    "\n",
    "list_of_users = list(set_of_users)\n",
    "A = np.full((len(list_of_users), len(movies)), np.nan)\n",
    "\n",
    "movie_id_to_index_and_vice_versa = {}\n",
    "user_id_to_index_and_vice_versa = {}\n",
    "\n",
    "for i in range(len(movies)):\n",
    "    movie_id_to_index_and_vice_versa[i] = movies[i]\n",
    "    movie_id_to_index_and_vice_versa[movies[i]] = i\n",
    "\n",
    "for i in range(len(list_of_users)):\n",
    "    user_id_to_index_and_vice_versa[i] = list_of_users[i]\n",
    "    user_id_to_index_and_vice_versa[list_of_users[i]] = i\n",
    "\n",
    "for i, user_id in enumerate(list_of_users):\n",
    "    for j, movie in enumerate(movies):\n",
    "        if user_id in movie_to_user_and_rating[movie]:\n",
    "            A[i][j] = movie_to_user_and_rating[movie][user_id]\n",
    "\n",
    "print(A)\n"
   ]
  },
  {
   "cell_type": "markdown",
   "metadata": {},
   "source": [
    "We see above a small represenation of our data in this matrix A. \n",
    "\n",
    "Each row in this matrix represents a user, the columns represent a movie, and the row-column values represent the rating a user has given a movie. In this small section we see that most users haven't rated most movies. This will trend true for the entire dataset. \n",
    "\n",
    "This issue is known as data sparsity and is a common problem for recommendation systems. Prior techniques for recommendation systems such as user-user collaborative filtering or item-item collaborative filtering can greatly suffer due to this issue. They also have other problems such as an inability to capture hidden relationships in the data to increase our ability to provide relavant recommendations. \n",
    "\n",
    "How do these less-than-ideal techniques work? They predict the rating a user would give for a given item based on the ratings similiar users gave that item. The same holds true for item-item collaborative filtering. \n",
    "\n",
    "WAIT A MINUTE!? You might be thinking: \"So using UU CF (User-User Collaborative Filtering) or II CF (Item-Item Collaborative Filtering) depends heavily on how similar users are to other users (or items to other items) and you are trying to measure how similar they are using very little data? Data that is pretty sparse? (Since most users don't rate most movies, how can we determine intelligently which users or items are most similar. **Add some more intuition here**)\"\n",
    "\n",
    "The difficulty in comparing users or items due to sparse data and the inability of UU and II CF to capture hidden relationships drove the creation of matrix factorization techniques for recommendation systems. \n",
    "\n",
    "Also, if the above didn't make much sense, no stress. There are resources that outline the prior techniques in much more detail with better visuals. The take-away is this: older techniques for predicting what rating a user would give a product/item was limited because it couldn't learn complex/hidden relationships about users and products AND the lack of ratings by users made it difficult to predict a users rating on new products. Matrix factorization aims to resolve these issues. \n",
    "\n",
    "\n",
    "\n",
    "\n",
    "Alright, so MF (matrix factorization). The #$%@! is it and how does it resolve some issues for us?\n",
    "\n",
    "We have x number of users, let's say we have 50 users and 10 movies that users can watch and rate. In our user-movie matrix (rows are users, columns are movies, entries in the matrix are ratings (or nothing if the user didn't rate the movie yet)) we would expect to have 500 entries. (50 users multiplied by 10 movies, which would be the total number of ratings). \n",
    "\n",
    "What we can do here is imagine two other matrices, we can call them P and Q and say that the result of multiplying P and Q gives us our matrix A. See the code below for a small visual. "
   ]
  },
  {
   "cell_type": "code",
   "execution_count": 16,
   "metadata": {},
   "outputs": [
    {
     "name": "stdout",
     "output_type": "stream",
     "text": [
      "Here is P: \n",
      "\n",
      "[[0.18 0.3  0.05]\n",
      " [0.47 0.85 0.93]\n",
      " [0.93 0.13 0.38]\n",
      " [0.03 0.86 0.36]\n",
      " [0.63 0.71 0.43]\n",
      " [0.31 0.96 0.96]\n",
      " [0.29 0.48 0.97]\n",
      " [0.   0.41 0.1 ]\n",
      " [0.51 0.02 0.41]\n",
      " [0.22 0.53 1.  ]\n",
      " [0.8  0.85 0.64]\n",
      " [0.04 0.21 0.93]\n",
      " [0.37 0.1  0.7 ]\n",
      " [0.3  0.27 1.  ]\n",
      " [0.86 0.41 0.98]\n",
      " [0.65 0.74 0.03]\n",
      " [0.12 0.63 0.9 ]\n",
      " [0.62 0.13 0.12]\n",
      " [0.84 0.14 0.52]\n",
      " [0.04 0.08 0.67]]\n",
      "\n",
      "\n",
      "\n",
      "\n",
      "Here is Q: \n",
      "\n",
      "[[0.69 0.34 0.22 0.81 0.22 0.54 0.97 0.15 0.94 0.18]\n",
      " [0.57 0.38 0.96 0.27 0.4  0.98 0.54 0.5  0.26 0.7 ]\n",
      " [0.01 0.05 0.6  0.34 0.95 0.9  0.71 0.82 0.67 0.13]]\n",
      "\n",
      "\n",
      "\n",
      "\n",
      "Here is A, the result of multiplying P and Q together: \n",
      "\n",
      "[[0.3  0.18 0.36 0.24 0.21 0.44 0.37 0.22 0.28 0.25]\n",
      " [0.82 0.53 1.48 0.93 1.33 1.92 1.58 1.26 1.29 0.8 ]\n",
      " [0.72 0.38 0.56 0.92 0.62 0.97 1.24 0.52 1.16 0.31]\n",
      " [0.51 0.36 1.05 0.38 0.69 1.18 0.75 0.73 0.49 0.65]\n",
      " [0.84 0.51 1.08 0.85 0.83 1.42 1.3  0.8  1.06 0.67]\n",
      " [0.77 0.52 1.57 0.84 1.36 1.97 1.5  1.31 1.18 0.85]\n",
      " [0.48 0.33 1.11 0.69 1.18 1.5  1.23 1.08 1.05 0.51]\n",
      " [0.23 0.16 0.45 0.14 0.26 0.49 0.29 0.29 0.17 0.3 ]\n",
      " [0.37 0.2  0.38 0.56 0.51 0.66 0.8  0.42 0.76 0.16]\n",
      " [0.46 0.33 1.16 0.66 1.21 1.54 1.21 1.12 1.01 0.54]\n",
      " [1.04 0.63 1.38 1.1  1.12 1.84 1.69 1.07 1.4  0.82]\n",
      " [0.16 0.14 0.77 0.41 0.98 1.06 0.81 0.87 0.72 0.28]\n",
      " [0.32 0.2  0.6  0.56 0.79 0.93 0.91 0.68 0.84 0.23]\n",
      " [0.37 0.25 0.93 0.66 1.12 1.33 1.15 1.   1.02 0.37]\n",
      " [0.84 0.5  1.17 1.14 1.28 1.75 1.75 1.14 1.57 0.57]\n",
      " [0.87 0.5  0.87 0.74 0.47 1.1  1.05 0.49 0.82 0.64]\n",
      " [0.45 0.33 1.17 0.57 1.13 1.49 1.1  1.07 0.88 0.58]\n",
      " [0.5  0.27 0.33 0.58 0.3  0.57 0.76 0.26 0.7  0.22]\n",
      " [0.66 0.36 0.63 0.9  0.73 1.06 1.26 0.62 1.17 0.32]\n",
      " [0.08 0.08 0.49 0.28 0.68 0.7  0.56 0.6  0.51 0.15]]\n"
     ]
    }
   ],
   "source": [
    "P = np.round(np.random.rand(20, 3), 2)\n",
    "Q = np.round(np.random.rand(3, 10), 2)\n",
    "A = np.round((P @ Q), 2)\n",
    "\n",
    "print(\"Here is P: \\n\")\n",
    "print(P)\n",
    "print(\"\\n\\n\\n\")\n",
    "\n",
    "print(\"Here is Q: \\n\")\n",
    "print(Q)\n",
    "print(\"\\n\\n\\n\")\n",
    "\n",
    "print(\"Here is A, the result of multiplying P and Q together: \\n\")\n",
    "print(A)"
   ]
  }
 ],
 "metadata": {
  "kernelspec": {
   "display_name": "Python 3",
   "language": "python",
   "name": "python3"
  },
  "language_info": {
   "codemirror_mode": {
    "name": "ipython",
    "version": 3
   },
   "file_extension": ".py",
   "mimetype": "text/x-python",
   "name": "python",
   "nbconvert_exporter": "python",
   "pygments_lexer": "ipython3",
   "version": "3.10.8"
  }
 },
 "nbformat": 4,
 "nbformat_minor": 2
}
